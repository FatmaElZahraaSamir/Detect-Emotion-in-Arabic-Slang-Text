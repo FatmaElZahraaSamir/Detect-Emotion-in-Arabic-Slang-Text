{
  "nbformat": 4,
  "nbformat_minor": 0,
  "metadata": {
    "colab": {
      "name": "Detect Emotion in Arabic Slang Text.ipynb",
      "provenance": [],
      "collapsed_sections": []
    },
    "kernelspec": {
      "display_name": "Python 3",
      "name": "python3"
    }
  },
  "cells": [
    {
      "cell_type": "markdown",
      "metadata": {
        "id": "5-PLdK6EwODM"
      },
      "source": [
        "# Data Preparation\n"
      ]
    },
    {
      "cell_type": "code",
      "metadata": {
        "id": "RTCx-dhVwMxz"
      },
      "source": [
        "# import all packages and set plots to be embedded inline\n",
        "import numpy as np\n",
        "import pandas as pd\n",
        "import re\n",
        "import unicodedata\n",
        "import string\n",
        "import nltk\n",
        "from nltk.tokenize import word_tokenize\n",
        "from nltk.stem.isri import ISRIStemmer\n",
        "from snowballstemmer import stemmer\n",
        "import matplotlib.pyplot as plt\n",
        "from sklearn.model_selection import train_test_split\n",
        "from sklearn.preprocessing import LabelBinarizer \n",
        "import math\n",
        "import gensim\n",
        "import tensorflow\n",
        "from nltk import ngrams\n",
        "from tensorflow.keras.preprocessing.text import Tokenizer\n",
        "from keras.preprocessing.sequence import pad_sequences\n",
        "import tensorflow\n",
        "from keras import losses\n",
        "from keras import metrics\n",
        "from keras import optimizers\n",
        "import keras\n",
        "from keras.models import load_model\n",
        "from sklearn.metrics import accuracy_score, classification_report , confusion_matrix"
      ],
      "execution_count": 1,
      "outputs": []
    },
    {
      "cell_type": "code",
      "metadata": {
        "id": "mhe2NFdeTFU6",
        "outputId": "446d62c6-022f-4bf4-fd19-72a1c52a25db",
        "colab": {
          "base_uri": "https://localhost:8080/",
          "height": 102
        }
      },
      "source": [
        "nltk.download(\"stopwords\")\n",
        "nltk.download('punkt')"
      ],
      "execution_count": 2,
      "outputs": [
        {
          "output_type": "stream",
          "text": [
            "[nltk_data] Downloading package stopwords to /root/nltk_data...\n",
            "[nltk_data]   Unzipping corpora/stopwords.zip.\n",
            "[nltk_data] Downloading package punkt to /root/nltk_data...\n",
            "[nltk_data]   Unzipping tokenizers/punkt.zip.\n"
          ],
          "name": "stdout"
        },
        {
          "output_type": "execute_result",
          "data": {
            "text/plain": [
              "True"
            ]
          },
          "metadata": {
            "tags": []
          },
          "execution_count": 2
        }
      ]
    },
    {
      "cell_type": "code",
      "metadata": {
        "id": "keLQ6Tl9t6f5",
        "outputId": "46b2877b-9f76-4edd-cef1-7562b11f8e48",
        "colab": {
          "base_uri": "https://localhost:8080/",
          "height": 34
        }
      },
      "source": [
        "from google.colab import drive\n",
        "\n",
        "drive.mount('/content/gdrive')"
      ],
      "execution_count": 3,
      "outputs": [
        {
          "output_type": "stream",
          "text": [
            "Mounted at /content/gdrive\n"
          ],
          "name": "stdout"
        }
      ]
    },
    {
      "cell_type": "code",
      "metadata": {
        "id": "LPjzzhmpu11c"
      },
      "source": [
        "# Import data\n",
        "df = pd.read_csv('gdrive/My Drive/Colab Notebooks/Emotional-Tone-Dataset.csv')\n",
        "pd.set_option('display.max_colwidth', 500)"
      ],
      "execution_count": 4,
      "outputs": []
    },
    {
      "cell_type": "code",
      "metadata": {
        "id": "nyTU48IIw81l",
        "outputId": "4feec743-fa2f-4429-f267-af4638403e1b",
        "colab": {
          "base_uri": "https://localhost:8080/",
          "height": 204
        }
      },
      "source": [
        "#check and test\n",
        "df.head()"
      ],
      "execution_count": 5,
      "outputs": [
        {
          "output_type": "execute_result",
          "data": {
            "text/html": [
              "<div>\n",
              "<style scoped>\n",
              "    .dataframe tbody tr th:only-of-type {\n",
              "        vertical-align: middle;\n",
              "    }\n",
              "\n",
              "    .dataframe tbody tr th {\n",
              "        vertical-align: top;\n",
              "    }\n",
              "\n",
              "    .dataframe thead th {\n",
              "        text-align: right;\n",
              "    }\n",
              "</style>\n",
              "<table border=\"1\" class=\"dataframe\">\n",
              "  <thead>\n",
              "    <tr style=\"text-align: right;\">\n",
              "      <th></th>\n",
              "      <th>ID</th>\n",
              "      <th>TWEET</th>\n",
              "      <th>LABEL</th>\n",
              "    </tr>\n",
              "  </thead>\n",
              "  <tbody>\n",
              "    <tr>\n",
              "      <th>0</th>\n",
              "      <td>1</td>\n",
              "      <td>الاوليمبياد الجايه هكون لسه ف الكليه ..</td>\n",
              "      <td>none</td>\n",
              "    </tr>\n",
              "    <tr>\n",
              "      <th>1</th>\n",
              "      <td>2</td>\n",
              "      <td>عجز الموازنه وصل ل93.7 % من الناتج المحلي يعني لسه اقل من 7 % و نفلس و بهايم لسه يتابعوا الاوليمبياد</td>\n",
              "      <td>anger</td>\n",
              "    </tr>\n",
              "    <tr>\n",
              "      <th>2</th>\n",
              "      <td>3</td>\n",
              "      <td>كتنا نيله ف حظنا الهباب xD</td>\n",
              "      <td>sadness</td>\n",
              "    </tr>\n",
              "    <tr>\n",
              "      <th>3</th>\n",
              "      <td>4</td>\n",
              "      <td>جميعنا نريد تحقيق اهدافنا لكن تونس تالقت في حراسه المرمي...</td>\n",
              "      <td>joy</td>\n",
              "    </tr>\n",
              "    <tr>\n",
              "      <th>4</th>\n",
              "      <td>5</td>\n",
              "      <td>الاوليمبياد نظامها مختلف .. ومواعيد المونديال مكانتش مقرفه ولا حاجه كانت معقوله</td>\n",
              "      <td>none</td>\n",
              "    </tr>\n",
              "  </tbody>\n",
              "</table>\n",
              "</div>"
            ],
            "text/plain": [
              "   ID  ...    LABEL\n",
              "0   1  ...     none\n",
              "1   2  ...    anger\n",
              "2   3  ...  sadness\n",
              "3   4  ...      joy\n",
              "4   5  ...     none\n",
              "\n",
              "[5 rows x 3 columns]"
            ]
          },
          "metadata": {
            "tags": []
          },
          "execution_count": 5
        }
      ]
    },
    {
      "cell_type": "code",
      "metadata": {
        "id": "EUq4xKeFxGqj",
        "outputId": "8f11c01a-d4e6-4095-ec16-2327a16ddf8c",
        "colab": {
          "base_uri": "https://localhost:8080/",
          "height": 34
        }
      },
      "source": [
        "# Structure of the dataset\n",
        "df.shape"
      ],
      "execution_count": 6,
      "outputs": [
        {
          "output_type": "execute_result",
          "data": {
            "text/plain": [
              "(10065, 3)"
            ]
          },
          "metadata": {
            "tags": []
          },
          "execution_count": 6
        }
      ]
    },
    {
      "cell_type": "code",
      "metadata": {
        "id": "pHw-ukn-xSGA",
        "outputId": "d1a8ffd0-66c3-4ef9-ffc4-07d20d6e38b4",
        "colab": {
          "base_uri": "https://localhost:8080/",
          "height": 187
        }
      },
      "source": [
        "df.info()"
      ],
      "execution_count": 7,
      "outputs": [
        {
          "output_type": "stream",
          "text": [
            "<class 'pandas.core.frame.DataFrame'>\n",
            "RangeIndex: 10065 entries, 0 to 10064\n",
            "Data columns (total 3 columns):\n",
            " #   Column  Non-Null Count  Dtype \n",
            "---  ------  --------------  ----- \n",
            " 0   ID      10065 non-null  int64 \n",
            " 1    TWEET  10064 non-null  object\n",
            " 2    LABEL  10065 non-null  object\n",
            "dtypes: int64(1), object(2)\n",
            "memory usage: 236.0+ KB\n"
          ],
          "name": "stdout"
        }
      ]
    },
    {
      "cell_type": "code",
      "metadata": {
        "id": "YsPZGpp2_4_9",
        "outputId": "3e2d046e-cfe5-4606-d5e8-cf8051d9776d",
        "colab": {
          "base_uri": "https://localhost:8080/",
          "height": 51
        }
      },
      "source": [
        "print(\"We need to classify \"+ str(df[\" LABEL\"].nunique()) +\" emotions.\")\n",
        "print(\"The emotions to be classified are: \"+ str(list(df[\" LABEL\"].unique().tolist())))"
      ],
      "execution_count": 8,
      "outputs": [
        {
          "output_type": "stream",
          "text": [
            "We need to classify 8 emotions.\n",
            "The emotions to be classified are: ['none', 'anger', 'sadness', 'joy', 'surprise', 'love', 'sympathy', 'fear']\n"
          ],
          "name": "stdout"
        }
      ]
    },
    {
      "cell_type": "code",
      "metadata": {
        "id": "yTzJcxdhCCco",
        "outputId": "f23cb345-cd3b-46e5-c22e-35b640e4223a",
        "colab": {
          "base_uri": "https://localhost:8080/",
          "height": 170
        }
      },
      "source": [
        "# Check balanced\n",
        "df[\" LABEL\"].value_counts()"
      ],
      "execution_count": 9,
      "outputs": [
        {
          "output_type": "execute_result",
          "data": {
            "text/plain": [
              "none        1550\n",
              "anger       1444\n",
              "joy         1281\n",
              "sadness     1256\n",
              "love        1220\n",
              "fear        1207\n",
              "sympathy    1062\n",
              "surprise    1045\n",
              "Name:  LABEL, dtype: int64"
            ]
          },
          "metadata": {
            "tags": []
          },
          "execution_count": 9
        }
      ]
    },
    {
      "cell_type": "code",
      "metadata": {
        "id": "g9-M9_bEz3Y7"
      },
      "source": [
        "# Create copies of original \n",
        "df_clean = df.copy()"
      ],
      "execution_count": 10,
      "outputs": []
    },
    {
      "cell_type": "code",
      "metadata": {
        "id": "byZWNkAQ0dFU",
        "outputId": "03ea4551-e1a6-4a10-c01a-b65f9b3eb939",
        "colab": {
          "base_uri": "https://localhost:8080/",
          "height": 85
        }
      },
      "source": [
        "# check null values\n",
        "df_clean.isnull().sum()"
      ],
      "execution_count": 11,
      "outputs": [
        {
          "output_type": "execute_result",
          "data": {
            "text/plain": [
              "ID        0\n",
              " TWEET    1\n",
              " LABEL    0\n",
              "dtype: int64"
            ]
          },
          "metadata": {
            "tags": []
          },
          "execution_count": 11
        }
      ]
    },
    {
      "cell_type": "code",
      "metadata": {
        "id": "1mJu_e3Y0eHq"
      },
      "source": [
        "# Drop null values\n",
        "df_clean = df_clean.dropna()\n",
        "df_clean = df_clean.reset_index(drop=True)"
      ],
      "execution_count": 12,
      "outputs": []
    },
    {
      "cell_type": "code",
      "metadata": {
        "id": "7TgiwS4N0ghx",
        "outputId": "023cd224-c713-4a74-a4b2-db7203b52b81",
        "colab": {
          "base_uri": "https://localhost:8080/",
          "height": 85
        }
      },
      "source": [
        "df_clean.isnull().sum()"
      ],
      "execution_count": 13,
      "outputs": [
        {
          "output_type": "execute_result",
          "data": {
            "text/plain": [
              "ID        0\n",
              " TWEET    0\n",
              " LABEL    0\n",
              "dtype: int64"
            ]
          },
          "metadata": {
            "tags": []
          },
          "execution_count": 13
        }
      ]
    },
    {
      "cell_type": "markdown",
      "metadata": {
        "id": "SUiLHyD4tv8M"
      },
      "source": [
        "# Text Cleaning pipeline"
      ]
    },
    {
      "cell_type": "code",
      "metadata": {
        "id": "J_0ixypv-V_E"
      },
      "source": [
        "def normalize_arabic(text):\n",
        "    text = re.sub(\"إ\", \"ا\", text)\n",
        "    text = re.sub(\"أ\", \"ا\", text)\n",
        "    text = re.sub(\"آ\", \"ا\", text)\n",
        "    text = re.sub(\"ى\", \"ي\", text)\n",
        "    text = re.sub(\"ؤ\", \"ء\", text)\n",
        "    text = re.sub(\"ئ\", \"ء\", text)\n",
        "    text = re.sub(\"ة\", \"ه\", text)\n",
        "    text = re.sub(\"گ\", \"ك\", text)\n",
        "    return text\n",
        "\n",
        "def remove_diacritics(text):\n",
        "    arabic_diacritics = re.compile(\"\"\"\n",
        "                             ّ    | # Tashdid\n",
        "                             َ    | # Fatha\n",
        "                             ً    | # Tanwin Fath\n",
        "                             ُ    | # Damma\n",
        "                             ٌ    | # Tanwin Damm\n",
        "                             ِ    | # Kasra\n",
        "                             ٍ    | # Tanwin Kasr\n",
        "                             ْ    | # Sukun\n",
        "                         \"\"\", re.VERBOSE)\n",
        "    text = re.sub(arabic_diacritics, '', text)\n",
        "    return text\n",
        "\n",
        "def remove_punctuations(text):\n",
        "    arabic_punctuations = '''`÷×؛<>_()*&^%][ـ،/:\"؟.,'{}~¦+|!”…“–ـ»«•'''\n",
        "    english_numbers = \"0123456789\"\n",
        "    english_punctuations = string.punctuation\n",
        "    punctuations_list = arabic_punctuations + english_numbers + english_punctuations\n",
        "    \n",
        "    translator = str.maketrans('', '', punctuations_list)\n",
        "    return text.translate(translator)\n",
        "\n",
        "def remove_repeating_char(text):\n",
        "    return re.sub(r'(.)\\1+', r'\\1', text)  \n",
        "\n",
        "# Remove english\n",
        "def remove_english(text):\n",
        "    text = re.sub(r'\\s*[A-Za-z]+\\b', '' , text)\n",
        "    return text.rstrip()\n",
        "\n",
        "def text2words(text):\n",
        "  return word_tokenize(text)    \n",
        "\n",
        "def remove_stopwords(words, stop_words):\n",
        "    return [word for word in words if word not in stop_words]\n",
        "\n",
        "def to_lowercase(text):\n",
        "    return text.lower()\n",
        "\n",
        "def rooting(text):\n",
        "    result = list()\n",
        "    for word in text:\n",
        "        stemmer = ISRIStemmer()\n",
        "        result.append(stemmer.stem(word))\n",
        "    return result\n",
        "\n",
        "def normalize_text(text):\n",
        "    text = normalize_arabic(text)\n",
        "    text = remove_diacritics(text)\n",
        "    text = remove_punctuations(text)\n",
        "    text = remove_repeating_char(text)\n",
        "    text = remove_english(text)\n",
        "    text = to_lowercase(text)\n",
        "    words = text2words(text)\n",
        "    arb_stopwords = set(nltk.corpus.stopwords.words(\"arabic\"))\n",
        "    words = remove_stopwords(words, arb_stopwords)\n",
        "    #words = rooting(words)\n",
        "    \n",
        "    return words  #' '.join(words)\n"
      ],
      "execution_count": 14,
      "outputs": []
    },
    {
      "cell_type": "code",
      "metadata": {
        "id": "dUxRNmIiwxcn"
      },
      "source": [
        ""
      ],
      "execution_count": 14,
      "outputs": []
    },
    {
      "cell_type": "markdown",
      "metadata": {
        "id": "LX4IMQI_rFcD"
      },
      "source": [
        "## Text Preprocessing"
      ]
    },
    {
      "cell_type": "code",
      "metadata": {
        "id": "MuQT9iHD16ga"
      },
      "source": [
        "df_clean[' TWEET'] = df_clean[' TWEET'].apply(normalize_text)"
      ],
      "execution_count": 15,
      "outputs": []
    },
    {
      "cell_type": "code",
      "metadata": {
        "id": "PFyW4XBS1eRD"
      },
      "source": [
        "# del df_clean['ID']\n",
        "df_clean.to_csv(\"cleaned_Emotional.csv\",index=None)"
      ],
      "execution_count": 16,
      "outputs": []
    },
    {
      "cell_type": "code",
      "metadata": {
        "id": "97Hkwa8Kqg1W",
        "outputId": "a3ca4d00-88a5-4b3f-dd70-b64e0654fd30",
        "colab": {
          "base_uri": "https://localhost:8080/",
          "height": 142
        }
      },
      "source": [
        "df2 = pd.read_csv(\"cleaned_Emotional.csv\")\n",
        "df2 = df2.dropna()\n",
        "df2 = df2.reset_index(drop=True)\n",
        "df2.head(n=3)"
      ],
      "execution_count": 17,
      "outputs": [
        {
          "output_type": "execute_result",
          "data": {
            "text/html": [
              "<div>\n",
              "<style scoped>\n",
              "    .dataframe tbody tr th:only-of-type {\n",
              "        vertical-align: middle;\n",
              "    }\n",
              "\n",
              "    .dataframe tbody tr th {\n",
              "        vertical-align: top;\n",
              "    }\n",
              "\n",
              "    .dataframe thead th {\n",
              "        text-align: right;\n",
              "    }\n",
              "</style>\n",
              "<table border=\"1\" class=\"dataframe\">\n",
              "  <thead>\n",
              "    <tr style=\"text-align: right;\">\n",
              "      <th></th>\n",
              "      <th>ID</th>\n",
              "      <th>TWEET</th>\n",
              "      <th>LABEL</th>\n",
              "    </tr>\n",
              "  </thead>\n",
              "  <tbody>\n",
              "    <tr>\n",
              "      <th>0</th>\n",
              "      <td>1</td>\n",
              "      <td>['الاوليمبياد', 'الجايه', 'هكون', 'لسه', 'ف', 'الكليه']</td>\n",
              "      <td>none</td>\n",
              "    </tr>\n",
              "    <tr>\n",
              "      <th>1</th>\n",
              "      <td>2</td>\n",
              "      <td>['عجز', 'الموازنه', 'وصل', 'ل', 'الناتج', 'المحلي', 'يعني', 'لسه', 'اقل', 'و', 'نفلس', 'و', 'بهايم', 'لسه', 'يتابعوا', 'الاوليمبياد']</td>\n",
              "      <td>anger</td>\n",
              "    </tr>\n",
              "    <tr>\n",
              "      <th>2</th>\n",
              "      <td>3</td>\n",
              "      <td>['كتنا', 'نيله', 'ف', 'حظنا', 'الهباب']</td>\n",
              "      <td>sadness</td>\n",
              "    </tr>\n",
              "  </tbody>\n",
              "</table>\n",
              "</div>"
            ],
            "text/plain": [
              "   ID  ...    LABEL\n",
              "0   1  ...     none\n",
              "1   2  ...    anger\n",
              "2   3  ...  sadness\n",
              "\n",
              "[3 rows x 3 columns]"
            ]
          },
          "metadata": {
            "tags": []
          },
          "execution_count": 17
        }
      ]
    },
    {
      "cell_type": "code",
      "metadata": {
        "id": "KuaCptsmLyjs"
      },
      "source": [
        "X, y = df2[' TWEET'].to_list(), df2[' LABEL'].to_list()"
      ],
      "execution_count": 18,
      "outputs": []
    },
    {
      "cell_type": "code",
      "metadata": {
        "id": "SY4cpW4nRDne"
      },
      "source": [
        ""
      ],
      "execution_count": 18,
      "outputs": []
    },
    {
      "cell_type": "markdown",
      "metadata": {
        "id": "g3pXj9GENzBk"
      },
      "source": [
        "# Vectorization\n",
        "# pre-trained aravec"
      ]
    },
    {
      "cell_type": "code",
      "metadata": {
        "id": "T9HilAdfU6Z2"
      },
      "source": [
        "#Encoding output labels\n",
        "from keras.utils import np_utils\n",
        "from sklearn.preprocessing import LabelEncoder\n",
        "\n",
        "encoder = LabelEncoder()\n",
        "encoder.fit(y)\n",
        "encoded_y = encoder.transform(y)\n",
        "# convert integers to one hot encoded\n",
        "y_categorical = np_utils.to_categorical(encoded_y)    "
      ],
      "execution_count": 19,
      "outputs": []
    },
    {
      "cell_type": "code",
      "metadata": {
        "id": "o8p_mHwgU6fL",
        "outputId": "c080d147-19b7-4cf0-bd4e-1b1e0131b8ec",
        "colab": {
          "base_uri": "https://localhost:8080/",
          "height": 34
        }
      },
      "source": [
        "y_categorical[2]"
      ],
      "execution_count": 20,
      "outputs": [
        {
          "output_type": "execute_result",
          "data": {
            "text/plain": [
              "array([0., 0., 0., 0., 0., 1., 0., 0.], dtype=float32)"
            ]
          },
          "metadata": {
            "tags": []
          },
          "execution_count": 20
        }
      ]
    },
    {
      "cell_type": "code",
      "metadata": {
        "id": "47kd7Llec70s"
      },
      "source": [
        "X_train, X_test, y_train, y_test = train_test_split(X, y_categorical, test_size = 0.33, random_state=42)"
      ],
      "execution_count": 21,
      "outputs": []
    },
    {
      "cell_type": "code",
      "metadata": {
        "id": "7gqDxGXB31uK",
        "outputId": "ab9b8bb4-71ee-48cf-8514-4546406b6d0f",
        "colab": {
          "base_uri": "https://localhost:8080/",
          "height": 52
        }
      },
      "source": [
        "X_train[33]"
      ],
      "execution_count": 22,
      "outputs": [
        {
          "output_type": "execute_result",
          "data": {
            "application/vnd.google.colaboratory.intrinsic+json": {
              "type": "string"
            },
            "text/plain": [
              "\"['الفشل', 'عندما', 'نقول', 'لناس', 'كلمه', 'فاشل', 'الفشل', 'الحقيقي', 'عمره', 'ماكان', 'احد', 'فاشل', 'نحطم', 'الناس', 'قبل', 'الفشل', 'الحقيقي', 'انا', 'ضدالفشل', 'افشل', 'مدرب', 'مر', 'علي', 'ناديك']\""
            ]
          },
          "metadata": {
            "tags": []
          },
          "execution_count": 22
        }
      ]
    },
    {
      "cell_type": "code",
      "metadata": {
        "id": "_fEzDPQuh0yb",
        "outputId": "f217e47a-4e68-47bc-c55b-6333f201e7ec",
        "colab": {
          "base_uri": "https://localhost:8080/",
          "height": 85
        }
      },
      "source": [
        "!unzip 'gdrive/My Drive/Colab Notebooks/full_grams_sg_300_twitter.zip'"
      ],
      "execution_count": 23,
      "outputs": [
        {
          "output_type": "stream",
          "text": [
            "Archive:  gdrive/My Drive/Colab Notebooks/full_grams_sg_300_twitter.zip\n",
            "  inflating: full_grams_sg_300_twitter.mdl  \n",
            "  inflating: full_grams_sg_300_twitter.mdl.trainables.syn1neg.npy  \n",
            "  inflating: full_grams_sg_300_twitter.mdl.wv.vectors.npy  \n"
          ],
          "name": "stdout"
        }
      ]
    },
    {
      "cell_type": "code",
      "metadata": {
        "id": "OOa1tUW98tuZ",
        "outputId": "5cf45548-572c-409b-9e76-86c65403cf45",
        "colab": {
          "base_uri": "https://localhost:8080/",
          "height": 71
        }
      },
      "source": [
        "t_model = gensim.models.Word2Vec.load('full_grams_sg_300_twitter.mdl')"
      ],
      "execution_count": 24,
      "outputs": [
        {
          "output_type": "stream",
          "text": [
            "/usr/local/lib/python3.6/dist-packages/smart_open/smart_open_lib.py:252: UserWarning: This function is deprecated, use smart_open.open instead. See the migration notes for details: https://github.com/RaRe-Technologies/smart_open/blob/master/README.rst#migrating-to-the-new-open-function\n",
            "  'See the migration notes for details: %s' % _MIGRATION_NOTES_URL\n"
          ],
          "name": "stderr"
        }
      ]
    },
    {
      "cell_type": "code",
      "metadata": {
        "id": "BHQYzPsrqHFl"
      },
      "source": [
        "from googleapiclient.discovery import build\n",
        "\n",
        "vector_sz = 300 #vector for each word\n",
        "number_of_inputs = 140 #max number of words per tweet\n",
        "\n",
        "def encoded_docs(sent_tokens):\n",
        "    sent_emb = np.zeros(shape=(number_of_inputs, vector_sz)) #np array of arrays (array of 100/300 float number per word)\n",
        "    sent_emb_index = 0\n",
        "    for i in range(len(sent_tokens)):\n",
        "        try:\n",
        "            sent_emb[sent_emb_index] = t_model.wv[sent_tokens[i]]\n",
        "            sent_emb_index = sent_emb_index + 1\n",
        "        except:\n",
        "            try:\n",
        "                result = rooting([sent_tokens[i]])[0]\n",
        "                embedded_vectors[sent_emb_index] = t_model.wv[result]\n",
        "                sent_emb_index = sent_emb_index + 1\n",
        "            except:\n",
        "                try:\n",
        "                    #print(\"in google search \" + sent_tokens[i])\n",
        "                    search_output = google_search(sent_tokens[i])  \n",
        "                    #print(\"search_output \" + search_output)\n",
        "                    tokens = re.split(\" \", search_output)\n",
        "                    for j in range(len(tokens)):\n",
        "                        try:\n",
        "                            sent_emb[sent_emb_index] = t_model.wv[tokens[j]]\n",
        "                            sent_emb_index = sent_emb_index + 1\n",
        "                            print (\"added \" + tokens[j])\n",
        "                        except:\n",
        "                            pass\n",
        "                except:\n",
        "                     pass #currently emojis can't be embedded and for any extreme case\n",
        "    return sent_emb    "
      ],
      "execution_count": 25,
      "outputs": []
    },
    {
      "cell_type": "code",
      "metadata": {
        "id": "S6jht2VgU6iO"
      },
      "source": [
        "em_train = np.zeros(shape=(len(X_train), number_of_inputs, vector_sz))#number of tweets*max number of words per tweet*vector size per word\n",
        "em_test = np.zeros(shape=(len(X_test), number_of_inputs, vector_sz))\n",
        "\n",
        "for i in range(len(X_train)):\n",
        "    em_train[i]= encoded_docs(X_train[i])\n",
        "\n",
        "for i in range(len(X_test)):\n",
        "    em_test[i]= encoded_docs(X_test[i])"
      ],
      "execution_count": 26,
      "outputs": []
    },
    {
      "cell_type": "code",
      "metadata": {
        "id": "D3yvxb9L2CUQ",
        "outputId": "17e3857e-1b80-4c1d-9117-27fdfe262acc",
        "colab": {
          "base_uri": "https://localhost:8080/",
          "height": 85
        }
      },
      "source": [
        "print(em_train.shape)\n",
        "print(y_train.shape)\n",
        "print(em_test.shape)\n",
        "print(y_test.shape)"
      ],
      "execution_count": 27,
      "outputs": [
        {
          "output_type": "stream",
          "text": [
            "(6742, 140, 300)\n",
            "(6742, 8)\n",
            "(3322, 140, 300)\n",
            "(3322, 8)\n"
          ],
          "name": "stdout"
        }
      ]
    },
    {
      "cell_type": "code",
      "metadata": {
        "id": "j7Ff8Uo5LrUk"
      },
      "source": [
        ""
      ],
      "execution_count": 27,
      "outputs": []
    },
    {
      "cell_type": "markdown",
      "metadata": {
        "id": "1nKNwGBSLnBV"
      },
      "source": [
        "# CNN Model"
      ]
    },
    {
      "cell_type": "code",
      "metadata": {
        "id": "rourIMDp2CYX"
      },
      "source": [
        "import keras\n",
        "import random\n",
        "from keras.models import Sequential\n",
        "from keras.callbacks import TensorBoard\n",
        "import csv\n",
        "import numpy as np\n",
        "\n",
        "dropout_rate = 0.3\n",
        "number_of_inputs = 140 #max number of words /characters per doc(tweet)\n",
        "vector_size = 300 #vector for each word\n",
        "batch_size = 15\n",
        "kernal_size= 5\n",
        "pool_size = 3\n",
        "noise_shape = (batch_size, 1, number_of_inputs)\n",
        "epochs = 20\n",
        "test_size = 0.33\n",
        "Learning_rate = 0.0001\n",
        "# Make model\n",
        "\n",
        "\n",
        "model = Sequential()\n",
        "\n",
        "#Convolution\n",
        "model.add(keras.layers.Conv1D(filters= vector_size, kernel_size=kernal_size, strides=1, padding='same', activation=\"relu\",\n",
        "                              input_shape=(number_of_inputs, vector_size)))\n",
        "model.add(keras.layers.Conv1D(filters= vector_size, kernel_size= kernal_size, strides=1, padding='same', activation=\"relu\"))\n",
        "model.add(keras.layers.MaxPooling1D(pool_size =  pool_size, padding='same'))\n",
        "\n",
        "#Convolution\n",
        "model.add(keras.layers.Conv1D(filters= vector_size, kernel_size= kernal_size, strides=1, padding='same', activation=\"relu\"))\n",
        "model.add(keras.layers.Conv1D(filters= vector_size, kernel_size= kernal_size, strides=1, padding='same', activation=\"relu\"))\n",
        "model.add(keras.layers.MaxPooling1D(pool_size = pool_size, padding='same'))\n",
        "\n",
        "#Convolution\n",
        "model.add(keras.layers.Conv1D(filters= vector_size, kernel_size= kernal_size, strides=1, padding='same', activation=\"relu\"))\n",
        "model.add(keras.layers.Conv1D(filters= vector_size, kernel_size= kernal_size, strides=1, padding='same', activation=\"relu\"))\n",
        "model.add(keras.layers.MaxPooling1D(pool_size = pool_size, padding='same'))\n",
        "\n",
        "#Convolution\n",
        "model.add(keras.layers.Conv1D(filters= vector_size, kernel_size= kernal_size, strides=1, padding='same', activation=\"relu\"))\n",
        "model.add(keras.layers.Conv1D(filters= vector_size, kernel_size= kernal_size, strides=1, padding='same', activation=\"relu\"))\n",
        "model.add(keras.layers.MaxPooling1D(pool_size = pool_size, padding='same'))\n",
        "\n",
        "#Convolution\n",
        "model.add(keras.layers.Conv1D(filters= vector_size, kernel_size= kernal_size, strides=1, padding='same', activation=\"relu\"))\n",
        "model.add(keras.layers.Conv1D(filters= vector_size, kernel_size= kernal_size, strides=1, padding='same', activation=\"relu\"))\n",
        "model.add(keras.layers.MaxPooling1D(pool_size = pool_size, padding='same'))\n",
        "\n",
        "\n",
        "#Dropout\n",
        "model.add(keras.layers.Dropout(dropout_rate))\n",
        "\n",
        "#output\n",
        "model.add(keras.layers.Flatten())\n",
        "model.add(keras.layers.Dense(8, activation=\"softmax\"))"
      ],
      "execution_count": 28,
      "outputs": []
    },
    {
      "cell_type": "code",
      "metadata": {
        "id": "pejOLbgfMfYh"
      },
      "source": [
        "opt = keras.optimizers.Adam(lr= Learning_rate, beta_1=0.9, beta_2=0.999, epsilon=None, decay=0.0, amsgrad=False)\n",
        "\n",
        "model.compile(optimizer= opt,\n",
        "              loss='categorical_crossentropy',\n",
        "              metrics=['accuracy'])"
      ],
      "execution_count": 29,
      "outputs": []
    },
    {
      "cell_type": "code",
      "metadata": {
        "id": "JFO1JiVXMfhr",
        "outputId": "363fe86e-d82a-4235-9541-a52177671ae7",
        "colab": {
          "base_uri": "https://localhost:8080/",
          "height": 765
        }
      },
      "source": [
        "model.summary()\n"
      ],
      "execution_count": 30,
      "outputs": [
        {
          "output_type": "stream",
          "text": [
            "Model: \"sequential\"\n",
            "_________________________________________________________________\n",
            "Layer (type)                 Output Shape              Param #   \n",
            "=================================================================\n",
            "conv1d (Conv1D)              (None, 140, 300)          450300    \n",
            "_________________________________________________________________\n",
            "conv1d_1 (Conv1D)            (None, 140, 300)          450300    \n",
            "_________________________________________________________________\n",
            "max_pooling1d (MaxPooling1D) (None, 47, 300)           0         \n",
            "_________________________________________________________________\n",
            "conv1d_2 (Conv1D)            (None, 47, 300)           450300    \n",
            "_________________________________________________________________\n",
            "conv1d_3 (Conv1D)            (None, 47, 300)           450300    \n",
            "_________________________________________________________________\n",
            "max_pooling1d_1 (MaxPooling1 (None, 16, 300)           0         \n",
            "_________________________________________________________________\n",
            "conv1d_4 (Conv1D)            (None, 16, 300)           450300    \n",
            "_________________________________________________________________\n",
            "conv1d_5 (Conv1D)            (None, 16, 300)           450300    \n",
            "_________________________________________________________________\n",
            "max_pooling1d_2 (MaxPooling1 (None, 6, 300)            0         \n",
            "_________________________________________________________________\n",
            "conv1d_6 (Conv1D)            (None, 6, 300)            450300    \n",
            "_________________________________________________________________\n",
            "conv1d_7 (Conv1D)            (None, 6, 300)            450300    \n",
            "_________________________________________________________________\n",
            "max_pooling1d_3 (MaxPooling1 (None, 2, 300)            0         \n",
            "_________________________________________________________________\n",
            "conv1d_8 (Conv1D)            (None, 2, 300)            450300    \n",
            "_________________________________________________________________\n",
            "conv1d_9 (Conv1D)            (None, 2, 300)            450300    \n",
            "_________________________________________________________________\n",
            "max_pooling1d_4 (MaxPooling1 (None, 1, 300)            0         \n",
            "_________________________________________________________________\n",
            "dropout (Dropout)            (None, 1, 300)            0         \n",
            "_________________________________________________________________\n",
            "flatten (Flatten)            (None, 300)               0         \n",
            "_________________________________________________________________\n",
            "dense (Dense)                (None, 8)                 2408      \n",
            "=================================================================\n",
            "Total params: 4,505,408\n",
            "Trainable params: 4,505,408\n",
            "Non-trainable params: 0\n",
            "_________________________________________________________________\n"
          ],
          "name": "stdout"
        }
      ]
    },
    {
      "cell_type": "markdown",
      "metadata": {
        "id": "fStidnnRN4G_"
      },
      "source": [
        "### Train the model\n"
      ]
    },
    {
      "cell_type": "code",
      "metadata": {
        "id": "2geh4YAMMffC",
        "outputId": "236cbe19-0fd0-4682-bd6c-50dab10bdf29",
        "colab": {
          "base_uri": "https://localhost:8080/",
          "height": 697
        }
      },
      "source": [
        "history = model.fit(em_train,\n",
        "                    y_train,\n",
        "                    batch_size= batch_size,\n",
        "                    epochs= epochs,\n",
        "                    validation_data=(em_test, y_test),\n",
        "                    shuffle=True)\n",
        "model.save(\"emotion_model.h5\")"
      ],
      "execution_count": 31,
      "outputs": [
        {
          "output_type": "stream",
          "text": [
            "Epoch 1/20\n",
            "450/450 [==============================] - 278s 618ms/step - loss: 1.8895 - accuracy: 0.2550 - val_loss: 1.5908 - val_accuracy: 0.3928\n",
            "Epoch 2/20\n",
            "450/450 [==============================] - 239s 532ms/step - loss: 1.5524 - accuracy: 0.3966 - val_loss: 1.5222 - val_accuracy: 0.4157\n",
            "Epoch 3/20\n",
            "450/450 [==============================] - 257s 572ms/step - loss: 1.5244 - accuracy: 0.4080 - val_loss: 1.5084 - val_accuracy: 0.4229\n",
            "Epoch 4/20\n",
            "450/450 [==============================] - 274s 608ms/step - loss: 1.5052 - accuracy: 0.4149 - val_loss: 1.5040 - val_accuracy: 0.4217\n",
            "Epoch 5/20\n",
            "450/450 [==============================] - 240s 533ms/step - loss: 1.4732 - accuracy: 0.4244 - val_loss: 1.4815 - val_accuracy: 0.4302\n",
            "Epoch 6/20\n",
            "450/450 [==============================] - 273s 606ms/step - loss: 1.4231 - accuracy: 0.4565 - val_loss: 1.3875 - val_accuracy: 0.4621\n",
            "Epoch 7/20\n",
            "450/450 [==============================] - 262s 583ms/step - loss: 1.2889 - accuracy: 0.5215 - val_loss: 1.2980 - val_accuracy: 0.5289\n",
            "Epoch 8/20\n",
            "450/450 [==============================] - 258s 574ms/step - loss: 1.1378 - accuracy: 0.5900 - val_loss: 1.2043 - val_accuracy: 0.5689\n",
            "Epoch 9/20\n",
            "450/450 [==============================] - 246s 547ms/step - loss: 1.0170 - accuracy: 0.6325 - val_loss: 1.2214 - val_accuracy: 0.5759\n",
            "Epoch 10/20\n",
            "450/450 [==============================] - 250s 556ms/step - loss: 0.9027 - accuracy: 0.6793 - val_loss: 1.2426 - val_accuracy: 0.5798\n",
            "Epoch 11/20\n",
            "450/450 [==============================] - 255s 566ms/step - loss: 0.7756 - accuracy: 0.7262 - val_loss: 1.3002 - val_accuracy: 0.5753\n",
            "Epoch 12/20\n",
            "450/450 [==============================] - 296s 658ms/step - loss: 0.6778 - accuracy: 0.7652 - val_loss: 1.4249 - val_accuracy: 0.5774\n",
            "Epoch 13/20\n",
            "450/450 [==============================] - 277s 616ms/step - loss: 0.5911 - accuracy: 0.7955 - val_loss: 1.7576 - val_accuracy: 0.5385\n",
            "Epoch 14/20\n",
            "450/450 [==============================] - 258s 574ms/step - loss: 0.5155 - accuracy: 0.8226 - val_loss: 1.9843 - val_accuracy: 0.5316\n",
            "Epoch 15/20\n",
            "450/450 [==============================] - 252s 560ms/step - loss: 0.4821 - accuracy: 0.8382 - val_loss: 1.8480 - val_accuracy: 0.5792\n",
            "Epoch 16/20\n",
            "450/450 [==============================] - 255s 566ms/step - loss: 0.4343 - accuracy: 0.8514 - val_loss: 1.9940 - val_accuracy: 0.5596\n",
            "Epoch 17/20\n",
            "450/450 [==============================] - 250s 556ms/step - loss: 0.3952 - accuracy: 0.8637 - val_loss: 1.9198 - val_accuracy: 0.5542\n",
            "Epoch 18/20\n",
            "450/450 [==============================] - 264s 586ms/step - loss: 0.3672 - accuracy: 0.8735 - val_loss: 1.9951 - val_accuracy: 0.5768\n",
            "Epoch 19/20\n",
            "450/450 [==============================] - 246s 547ms/step - loss: 0.3220 - accuracy: 0.8892 - val_loss: 2.2544 - val_accuracy: 0.5515\n",
            "Epoch 20/20\n",
            "450/450 [==============================] - 258s 574ms/step - loss: 0.2893 - accuracy: 0.9033 - val_loss: 2.3289 - val_accuracy: 0.5340\n"
          ],
          "name": "stdout"
        }
      ]
    },
    {
      "cell_type": "code",
      "metadata": {
        "id": "dQccBOTVeBHY"
      },
      "source": [
        "model = load_model(\"emotion_model.h5\")"
      ],
      "execution_count": 32,
      "outputs": []
    },
    {
      "cell_type": "code",
      "metadata": {
        "id": "sdHtjTN0gxov",
        "outputId": "ad11b21d-14f6-4863-9ac0-3e89bf851ba6",
        "colab": {
          "base_uri": "https://localhost:8080/",
          "height": 51
        }
      },
      "source": [
        "model.evaluate(em_test, y_test)"
      ],
      "execution_count": 33,
      "outputs": [
        {
          "output_type": "stream",
          "text": [
            "104/104 [==============================] - 32s 311ms/step - loss: 2.3289 - accuracy: 0.5340\n"
          ],
          "name": "stdout"
        },
        {
          "output_type": "execute_result",
          "data": {
            "text/plain": [
              "[2.328871011734009, 0.5340156555175781]"
            ]
          },
          "metadata": {
            "tags": []
          },
          "execution_count": 33
        }
      ]
    },
    {
      "cell_type": "code",
      "metadata": {
        "id": "CwRz9evHhODE"
      },
      "source": [
        "def plot_confusion_matrix(cm, classes, normalize=False, title='Confusion matrix', cmap=plt.cm.Blues):\n",
        "    \"\"\"\n",
        "    This function prints and plots the confusion matrix.\n",
        "    Normalization can be applied by setting `normalize=True`.\n",
        "    \"\"\"\n",
        "    if normalize:\n",
        "        cm = cm.astype('float') / cm.sum(axis=1)[:, np.newaxis]\n",
        "        print(\"Normalized confusion matrix\")\n",
        "    else:\n",
        "        print('Confusion matrix, without normalization')\n",
        "\n",
        "    #print(cm)\n",
        "    plt.figure(figsize=(15,15))\n",
        "    plt.imshow(cm, interpolation='nearest', cmap=cmap)\n",
        "    plt.title(title)\n",
        "    plt.colorbar()\n",
        "    tick_marks = np.arange(len(classes))\n",
        "    plt.xticks(tick_marks, classes, rotation=45)\n",
        "    plt.yticks(tick_marks, classes)\n",
        "\n",
        "    fmt = '.2f' if normalize else 'd'\n",
        "    thresh = cm.max() / 2.\n",
        "    for i in range (cm.shape[0]):\n",
        "        for j in range (cm.shape[1]):\n",
        "            plt.text(j, i, format(cm[i, j], fmt),\n",
        "                    horizontalalignment=\"center\",\n",
        "                    color=\"white\" if cm[i, j] > thresh else \"black\")\n",
        "\n",
        "    plt.tight_layout()\n",
        "    plt.ylabel('True label')\n",
        "    plt.xlabel('Predicted label')\n",
        "    plt.savefig('cm')"
      ],
      "execution_count": 53,
      "outputs": []
    },
    {
      "cell_type": "code",
      "metadata": {
        "id": "y--xkwtyMfcJ"
      },
      "source": [
        "def test(em_test, y_test):\n",
        "    predicted_y = model.predict(em_test)\n",
        "    print(np.argmax(predicted_y,axis =1).shape)\n",
        "    acc = accuracy_score(np.argmax(y_test,axis =1), np.argmax(predicted_y,axis =1))\n",
        "    report = classification_report(np.argmax(y_test,axis =1), np.argmax(predicted_y,axis =1))\n",
        "    cm = confusion_matrix(np.argmax(y_test,axis =1), np.argmax(predicted_y,axis =1))\n",
        "    return cm, acc, report        "
      ],
      "execution_count": 35,
      "outputs": []
    },
    {
      "cell_type": "code",
      "metadata": {
        "id": "tB-_WrwZN-xZ",
        "outputId": "483934dc-58a6-4b30-e5ee-c306e722476a",
        "colab": {
          "base_uri": "https://localhost:8080/",
          "height": 306
        }
      },
      "source": [
        "cm, acc, report = test(em_test, y_test)\n",
        "\n",
        "print(\"Test Accurcy: \"+str(acc))\n",
        "print(report)"
      ],
      "execution_count": 48,
      "outputs": [
        {
          "output_type": "stream",
          "text": [
            "(3322,)\n",
            "Test Accurcy: 0.5340156532209512\n",
            "              precision    recall  f1-score   support\n",
            "\n",
            "           0       0.56      0.30      0.39       464\n",
            "           1       0.96      0.90      0.93       397\n",
            "           2       0.31      0.37      0.34       427\n",
            "           3       0.75      0.60      0.67       401\n",
            "           4       0.60      0.69      0.64       502\n",
            "           5       0.23      0.44      0.30       414\n",
            "           6       0.43      0.23      0.30       363\n",
            "           7       0.92      0.74      0.82       354\n",
            "\n",
            "    accuracy                           0.53      3322\n",
            "   macro avg       0.59      0.54      0.55      3322\n",
            "weighted avg       0.59      0.53      0.54      3322\n",
            "\n"
          ],
          "name": "stdout"
        }
      ]
    },
    {
      "cell_type": "code",
      "metadata": {
        "id": "E0LQmClosb6o",
        "outputId": "7d7745bd-5649-496d-8a68-06bdd72eb150",
        "colab": {
          "base_uri": "https://localhost:8080/",
          "height": 1000
        }
      },
      "source": [
        "plot_confusion_matrix(cm, list(df[\" LABEL\"].unique().tolist()) ,True)"
      ],
      "execution_count": 54,
      "outputs": [
        {
          "output_type": "stream",
          "text": [
            "Normalized confusion matrix\n"
          ],
          "name": "stdout"
        },
        {
          "output_type": "display_data",
          "data": {
            "image/png": "[encoded data removed]",
            "text/plain": [
              "<Figure size 1080x1080 with 2 Axes>"
            ]
          },
          "metadata": {
            "tags": [],
            "needs_background": "light"
          }
        }
      ]
    },
    {
      "cell_type": "code",
      "metadata": {
        "id": "OxrhuH0Nb3I5"
      },
      "source": [
        "def traslate_label(label):\n",
        "  if label == 0:\n",
        "    return \"غضب\"\n",
        "  if label == 1:\n",
        "    return \"خوف\"\n",
        "  if label == 2:\n",
        "    return \"فرح\"\n",
        "  if label == 3:\n",
        "    return \"حب\"\n",
        "  if label == 4:\n",
        "    return \"طبيعي\"\n",
        "  if label == 5:\n",
        "    return \"حزين\"\n",
        "  if label == 6:\n",
        "    return \"متفاجئ\" \n",
        "  if label == 7:\n",
        "    return \"تعاطف\""
      ],
      "execution_count": 37,
      "outputs": []
    },
    {
      "cell_type": "code",
      "metadata": {
        "id": "VNTAby0h2CR6"
      },
      "source": [
        "def predict_doc(text):  \n",
        "    embedded_vector = encoded_docs(text)\n",
        "\n",
        "    arr = np.zeros(shape=(1, embedded_vector.shape[0], embedded_vector.shape[1]))\n",
        "    arr[0] = np.array(embedded_vector)\n",
        "    softmax_prediction = model.predict(arr)\n",
        "\n",
        "    return traslate_label(np.argmax(softmax_prediction))"
      ],
      "execution_count": 38,
      "outputs": []
    },
    {
      "cell_type": "code",
      "metadata": {
        "id": "ndcCvTmoj-97",
        "outputId": "a7a0dd4a-0321-4c96-e489-58637b05704e",
        "colab": {
          "base_uri": "https://localhost:8080/",
          "height": 295
        }
      },
      "source": [
        "history_dict = history.history\n",
        "history_dict.keys()\n",
        "\n",
        "\n",
        "acc = history.history['accuracy']\n",
        "val_acc = history.history['val_accuracy']\n",
        "loss = history.history['loss']\n",
        "val_loss = history.history['val_loss']\n",
        "\n",
        "epochs = range(1, len(acc) + 1)\n",
        "\n",
        "# \"bo\" is for \"blue dot\"\n",
        "plt.plot(epochs, loss, 'bo', label='Training loss')\n",
        "# b is for \"solid blue line\"\n",
        "plt.plot(epochs, val_loss, 'b', label='Validation loss')\n",
        "plt.title('Training and validation loss')\n",
        "plt.xlabel('Epochs')\n",
        "plt.ylabel('Loss')\n",
        "plt.legend()\n",
        "\n",
        "plt.show()"
      ],
      "execution_count": 40,
      "outputs": [
        {
          "output_type": "display_data",
          "data": {
            "image/png": "[encoded data removed]",
            "text/plain": [
              "<Figure size 432x288 with 1 Axes>"
            ]
          },
          "metadata": {
            "tags": [],
            "needs_background": "light"
          }
        }
      ]
    },
    {
      "cell_type": "code",
      "metadata": {
        "id": "TD1f_Nc1rLDP",
        "outputId": "9821b0ca-cbe0-4736-9492-688cb46d0359",
        "colab": {
          "base_uri": "https://localhost:8080/",
          "height": 295
        }
      },
      "source": [
        "plt.clf()   # clear figure\n",
        "acc_values = history_dict['accuracy']\n",
        "val_acc_values = history_dict['val_accuracy']\n",
        "\n",
        "plt.plot(epochs, acc, 'bo', label='Training acc')\n",
        "plt.plot(epochs, val_acc, 'b', label='Validation acc')\n",
        "plt.title('Training and validation accuracy')\n",
        "plt.xlabel('Epochs')\n",
        "plt.ylabel('Loss')\n",
        "plt.legend()\n",
        "\n",
        "plt.show()"
      ],
      "execution_count": 41,
      "outputs": [
        {
          "output_type": "display_data",
          "data": {
            "image/png": "[encoded data removed]",
            "text/plain": [
              "<Figure size 432x288 with 1 Axes>"
            ]
          },
          "metadata": {
            "tags": [],
            "needs_background": "light"
          }
        }
      ]
    },
    {
      "cell_type": "code",
      "metadata": {
        "id": "k4OhJFybkbxi"
      },
      "source": [
        ""
      ],
      "execution_count": 41,
      "outputs": []
    },
    {
      "cell_type": "code",
      "metadata": {
        "id": "187QdOkZkb7j",
        "outputId": "52976830-356f-434d-cf7e-b354cb13b521",
        "colab": {
          "base_uri": "https://localhost:8080/",
          "height": 204
        }
      },
      "source": [
        "doc = input(\"اكتب جملة: لمعرفة حالتها\\n\")\n",
        "while True:\n",
        "  if doc == 'break':\n",
        "      print(\"الى اللقاء\")\n",
        "      break\n",
        "  else:\n",
        "      # preprocessing embedding predict \n",
        "      embedded_vector = encoded_docs(doc)\n",
        "      shape= np.shape(embedded_vector)\n",
        "      embedded_vector = np.array(embedded_vector).reshape(1,shape[0],shape[1])\n",
        "      label = model.predict_classes(embedded_vector)\n",
        "      textlabel = traslate_label(label)\n",
        "      print (\"الحالة:\",textlabel)\n",
        "      doc = input(\"\")"
      ],
      "execution_count": 47,
      "outputs": [
        {
          "output_type": "stream",
          "text": [
            "اكتب جملة: لمعرفة حالتها\n",
            "انا مش حزين\n",
            "الحالة: فرح\n",
            "الامتحان كان صعب جدا\n",
            "الحالة: حزين\n",
            "معقول كل ده حصل\n",
            "الحالة: متفاجئ\n",
            "هنكسب ماتش انهارده\n",
            "الحالة: فرح\n",
            "break\n",
            "الى اللقاء\n"
          ],
          "name": "stdout"
        }
      ]
    },
    {
      "cell_type": "code",
      "metadata": {
        "id": "5krLUnP60hCW"
      },
      "source": [
        ""
      ],
      "execution_count": null,
      "outputs": []
    }
  ]
}